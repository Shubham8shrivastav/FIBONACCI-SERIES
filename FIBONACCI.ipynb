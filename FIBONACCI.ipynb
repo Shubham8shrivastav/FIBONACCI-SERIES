{
 "cells": [
  {
   "cell_type": "code",
   "execution_count": 25,
   "id": "17a0333b",
   "metadata": {},
   "outputs": [
    {
     "name": "stdout",
     "output_type": "stream",
     "text": [
      "Enter any number :10\n",
      "0 1 1 2 3 5 8 13 21 34 "
     ]
    }
   ],
   "source": [
    "num = int(input(\"Enter any number :\"))\n",
    "n1 = 0 \n",
    "n2 = 1\n",
    "sum = 0\n",
    "if num <= 0:\n",
    "    print('Please enter number greater than 0')\n",
    "else:\n",
    "    \n",
    "        for i in range (0, num):\n",
    "            print(sum, end=\" \")\n",
    "            n1 = n2\n",
    "            n2 = sum\n",
    "            sum = n1 + n2"
   ]
  }
 ],
 "metadata": {
  "kernelspec": {
   "display_name": "Python 3 (ipykernel)",
   "language": "python",
   "name": "python3"
  },
  "language_info": {
   "codemirror_mode": {
    "name": "ipython",
    "version": 3
   },
   "file_extension": ".py",
   "mimetype": "text/x-python",
   "name": "python",
   "nbconvert_exporter": "python",
   "pygments_lexer": "ipython3",
   "version": "3.9.7"
  }
 },
 "nbformat": 4,
 "nbformat_minor": 5
}
